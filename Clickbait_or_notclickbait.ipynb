{
 "cells": [
  {
   "cell_type": "code",
   "execution_count": 361,
   "id": "6341631f",
   "metadata": {},
   "outputs": [],
   "source": [
    "#Importing needed modules .\n",
    "from pandas import read_csv , concat ,DataFrame\n",
    "import matplotlib.pyplot as plt\n",
    "from sklearn.model_selection import train_test_split\n",
    "from sklearn.preprocessing import LabelEncoder\n",
    "from tensorflow.keras import layers , models\n",
    "from tensorflow.keras.preprocessing.text import Tokenizer\n",
    "from tensorflow.keras.preprocessing.sequence import pad_sequences\n",
    "#Instancing from 'LabelEncoder' and 'Tokenizer' objects .\n",
    "encoder = LabelEncoder()\n",
    "tokenizer = Tokenizer(oov_token='<00U00>')"
   ]
  },
  {
   "cell_type": "code",
   "execution_count": 362,
   "id": "e05341f0",
   "metadata": {},
   "outputs": [],
   "source": [
    "#Reading files .\n",
    "file_click = read_csv(\"D:\\\\datasets\\\\clickbait\\\\clickbait.csv\")\n",
    "file_not_click = read_csv(\"D:\\\\datasets\\\\clickbait\\\\notClickbait.csv\")\n",
    "click = file_click.copy()\n",
    "notclick = file_not_click.copy()"
   ]
  },
  {
   "cell_type": "code",
   "execution_count": 363,
   "id": "dd189f3c",
   "metadata": {},
   "outputs": [],
   "source": [
    "#Extracting labels .\n",
    "label = ['click' for i in range(len(click))]\n",
    "label_not_click = ['not_click' for i in range(len(notclick))]\n",
    "label.extend(label_not_click)"
   ]
  },
  {
   "cell_type": "code",
   "execution_count": 364,
   "id": "98442094",
   "metadata": {},
   "outputs": [
    {
     "name": "stdout",
     "output_type": "stream",
     "text": [
      "<class 'pandas.core.frame.DataFrame'>\n",
      "RangeIndex: 201 entries, 0 to 200\n",
      "Data columns (total 6 columns):\n",
      " #   Column       Non-Null Count  Dtype  \n",
      "---  ------       --------------  -----  \n",
      " 0   ID           201 non-null    object \n",
      " 1   Video Title  201 non-null    object \n",
      " 2   Views        201 non-null    int64  \n",
      " 3   Likes        201 non-null    int64  \n",
      " 4   Dislikes     201 non-null    int64  \n",
      " 5   Favorites    200 non-null    float64\n",
      "dtypes: float64(1), int64(3), object(2)\n",
      "memory usage: 9.5+ KB\n"
     ]
    }
   ],
   "source": [
    "#Unioning both files  both files .\n",
    "df = concat([click,notclick],ignore_index= True,axis=0)\n",
    "df.info()"
   ]
  },
  {
   "cell_type": "code",
   "execution_count": 365,
   "id": "fae41a76",
   "metadata": {},
   "outputs": [
    {
     "name": "stdout",
     "output_type": "stream",
     "text": [
      "<class 'pandas.core.frame.DataFrame'>\n",
      "RangeIndex: 201 entries, 0 to 200\n",
      "Data columns (total 1 columns):\n",
      " #   Column  Non-Null Count  Dtype\n",
      "---  ------  --------------  -----\n",
      " 0   class   201 non-null    int64\n",
      "dtypes: int64(1)\n",
      "memory usage: 1.7 KB\n"
     ]
    }
   ],
   "source": [
    "#Encoding labels to 0 and 1 .\n",
    "enoded_lbl = DataFrame(encoder.fit_transform(label),columns=['class'])\n",
    "enoded_lbl.info()"
   ]
  },
  {
   "cell_type": "code",
   "execution_count": 366,
   "id": "930a97d3",
   "metadata": {},
   "outputs": [],
   "source": [
    "#Creating finall data frame .\n",
    "df = concat([df,enoded_lbl],axis=1)"
   ]
  },
  {
   "cell_type": "code",
   "execution_count": 367,
   "id": "a3325579",
   "metadata": {},
   "outputs": [],
   "source": [
    "#Creating a function to remove stop words from each text .\n",
    "def Filter(text)->str:\n",
    "    '''function docstring'''\n",
    "    stopwords = [\"a\", \"about\", \"above\", \"after\", \"again\", \"against\", \"all\", \"am\", \"an\", \"and\", \"any\", \"are\", \"as\", \"at\", \"be\", \"because\", \"been\", \"before\", \"being\", \"below\", \"between\", \"both\", \"but\", \"by\", \"could\", \"did\", \"do\", \"does\", \"doing\", \"down\", \"during\", \"each\", \"few\", \"for\", \"from\", \"further\", \"had\", \"has\", \"have\", \"having\", \"he\", \"he'd\", \"he'll\", \"he's\", \"her\", \"here\", \"here's\", \"hers\", \"herself\", \"him\", \"himself\", \"his\", \"how\", \"how's\", \"i\", \"i'd\", \"i'll\", \"i'm\", \"i've\", \"if\", \"in\", \"into\", \"is\", \"it\", \"it's\", \"its\", \"itself\", \"let's\", \"me\", \"more\", \"most\", \"my\", \"myself\", \"nor\", \"of\", \"on\", \"once\", \"only\", \"or\", \"other\", \"ought\", \"our\", \"ours\", \"ourselves\", \"out\", \"over\", \"own\", \"same\", \"she\", \"she'd\", \"she'll\", \"she's\", \"should\", \"so\", \"some\", \"such\", \"than\", \"that\", \"that's\", \"the\", \"their\", \"theirs\", \"them\", \"themselves\", \"then\", \"there\", \"there's\", \"these\", \"they\", \"they'd\", \"they'll\", \"they're\", \"they've\", \"this\", \"those\", \"through\", \"to\", \"too\", \"under\", \"until\", \"up\", \"very\", \"was\", \"we\", \"we'd\", \"we'll\", \"we're\", \"we've\", \"were\", \"what\", \"what's\", \"when\", \"when's\", \"where\", \"where's\", \"which\", \"while\", \"who\", \"who's\", \"whom\", \"why\", \"why's\", \"with\", \"would\", \"you\", \"you'd\", \"you'll\", \"you're\", \"you've\", \"your\", \"yours\", \"yourself\", \"yourselves\" ]\n",
    "    result = [word for word in text.lower().split() if word not in stopwords]\n",
    "    return ' '.join(result)"
   ]
  },
  {
   "cell_type": "code",
   "execution_count": 368,
   "id": "3c6d73f1",
   "metadata": {},
   "outputs": [],
   "source": [
    "#Seperating features and classes . \n",
    "features = [Filter(text) for text in df['Video Title']]\n",
    "lbl = df['class'].to_numpy().reshape(-1,1)\n",
    "#Tokinzing features and make a matrix from them .\n",
    "tokenizer.fit_on_texts(features)\n",
    "sequences = tokenizer.texts_to_sequences(features)\n",
    "matrix = pad_sequences(sequences,padding='post',truncating='post',maxlen=3)"
   ]
  },
  {
   "cell_type": "code",
   "execution_count": 369,
   "id": "0ec72855",
   "metadata": {},
   "outputs": [],
   "source": [
    "#Making train and test sets .\n",
    "xtr , xts , ytr , yts = train_test_split(matrix,lbl,test_size=0.03,random_state=0)"
   ]
  },
  {
   "cell_type": "code",
   "execution_count": 370,
   "id": "489d0e33",
   "metadata": {},
   "outputs": [
    {
     "name": "stdout",
     "output_type": "stream",
     "text": [
      "There are 194 samples for  training and 7 for testing .\n"
     ]
    }
   ],
   "source": [
    "print(f'There are {len(xtr)} samples for  training and {len(xts)} for testing .')"
   ]
  },
  {
   "cell_type": "code",
   "execution_count": 371,
   "id": "7930e55f",
   "metadata": {},
   "outputs": [
    {
     "data": {
      "text/plain": [
       "array([[0],\n",
       "       [1],\n",
       "       [1],\n",
       "       [0],\n",
       "       [1],\n",
       "       [1],\n",
       "       [0]], dtype=int64)"
      ]
     },
     "execution_count": 371,
     "metadata": {},
     "output_type": "execute_result"
    }
   ],
   "source": [
    "yts"
   ]
  },
  {
   "cell_type": "code",
   "execution_count": 372,
   "id": "53dc8782",
   "metadata": {},
   "outputs": [],
   "source": [
    "#Building a model and compile it .\n",
    "model = models.Sequential([layers.Embedding(len(tokenizer.word_index)+1,2,input_length=3),\n",
    "                          layers.GlobalAveragePooling1D(),\n",
    "                           layers.Dense(24,activation='relu'),\n",
    "                          layers.Dense(1,activation='sigmoid')])\n",
    "model.compile(optimizer='adam',\n",
    "              loss='binary_crossentropy',\n",
    "              metrics=['accuracy'])"
   ]
  },
  {
   "cell_type": "code",
   "execution_count": 373,
   "id": "baea37cc",
   "metadata": {},
   "outputs": [
    {
     "name": "stdout",
     "output_type": "stream",
     "text": [
      "Epoch 1/50\n",
      "7/7 [==============================] - 1s 22ms/step - loss: 0.6930 - accuracy: 0.5412 - val_loss: 0.6939 - val_accuracy: 0.5714\n",
      "Epoch 2/50\n",
      "7/7 [==============================] - 0s 4ms/step - loss: 0.6917 - accuracy: 0.6340 - val_loss: 0.6932 - val_accuracy: 0.4286\n",
      "Epoch 3/50\n",
      "7/7 [==============================] - 0s 4ms/step - loss: 0.6904 - accuracy: 0.7010 - val_loss: 0.6911 - val_accuracy: 0.4286\n",
      "Epoch 4/50\n",
      "7/7 [==============================] - 0s 4ms/step - loss: 0.6891 - accuracy: 0.7371 - val_loss: 0.6893 - val_accuracy: 0.5714\n",
      "Epoch 5/50\n",
      "7/7 [==============================] - 0s 4ms/step - loss: 0.6870 - accuracy: 0.7887 - val_loss: 0.6877 - val_accuracy: 0.7143\n",
      "Epoch 6/50\n",
      "7/7 [==============================] - 0s 4ms/step - loss: 0.6847 - accuracy: 0.8454 - val_loss: 0.6856 - val_accuracy: 0.8571\n",
      "Epoch 7/50\n",
      "7/7 [==============================] - 0s 5ms/step - loss: 0.6818 - accuracy: 0.8763 - val_loss: 0.6837 - val_accuracy: 0.8571\n",
      "Epoch 8/50\n",
      "7/7 [==============================] - 0s 4ms/step - loss: 0.6788 - accuracy: 0.9124 - val_loss: 0.6821 - val_accuracy: 0.8571\n",
      "Epoch 9/50\n",
      "7/7 [==============================] - 0s 5ms/step - loss: 0.6755 - accuracy: 0.9072 - val_loss: 0.6800 - val_accuracy: 1.0000\n",
      "Epoch 10/50\n",
      "7/7 [==============================] - 0s 4ms/step - loss: 0.6714 - accuracy: 0.9227 - val_loss: 0.6767 - val_accuracy: 1.0000\n",
      "Epoch 11/50\n",
      "7/7 [==============================] - 0s 5ms/step - loss: 0.6667 - accuracy: 0.9433 - val_loss: 0.6735 - val_accuracy: 0.8571\n",
      "Epoch 12/50\n",
      "7/7 [==============================] - 0s 5ms/step - loss: 0.6617 - accuracy: 0.9433 - val_loss: 0.6690 - val_accuracy: 0.8571\n",
      "Epoch 13/50\n",
      "7/7 [==============================] - 0s 5ms/step - loss: 0.6556 - accuracy: 0.9588 - val_loss: 0.6648 - val_accuracy: 0.8571\n",
      "Epoch 14/50\n",
      "7/7 [==============================] - 0s 5ms/step - loss: 0.6492 - accuracy: 0.9639 - val_loss: 0.6602 - val_accuracy: 0.8571\n",
      "Epoch 15/50\n",
      "7/7 [==============================] - 0s 5ms/step - loss: 0.6421 - accuracy: 0.9639 - val_loss: 0.6553 - val_accuracy: 0.8571\n",
      "Epoch 16/50\n",
      "7/7 [==============================] - 0s 4ms/step - loss: 0.6340 - accuracy: 0.9639 - val_loss: 0.6493 - val_accuracy: 0.8571\n",
      "Epoch 17/50\n",
      "7/7 [==============================] - 0s 4ms/step - loss: 0.6250 - accuracy: 0.9691 - val_loss: 0.6432 - val_accuracy: 0.8571\n",
      "Epoch 18/50\n",
      "7/7 [==============================] - 0s 4ms/step - loss: 0.6155 - accuracy: 0.9794 - val_loss: 0.6374 - val_accuracy: 1.0000\n",
      "Epoch 19/50\n",
      "7/7 [==============================] - 0s 5ms/step - loss: 0.6051 - accuracy: 0.9845 - val_loss: 0.6309 - val_accuracy: 1.0000\n",
      "Epoch 20/50\n",
      "7/7 [==============================] - 0s 5ms/step - loss: 0.5938 - accuracy: 0.9845 - val_loss: 0.6238 - val_accuracy: 1.0000\n",
      "Epoch 21/50\n",
      "7/7 [==============================] - 0s 4ms/step - loss: 0.5815 - accuracy: 0.9845 - val_loss: 0.6154 - val_accuracy: 1.0000\n",
      "Epoch 22/50\n",
      "7/7 [==============================] - 0s 4ms/step - loss: 0.5685 - accuracy: 0.9845 - val_loss: 0.6066 - val_accuracy: 1.0000\n",
      "Epoch 23/50\n",
      "7/7 [==============================] - 0s 5ms/step - loss: 0.5550 - accuracy: 0.9794 - val_loss: 0.5978 - val_accuracy: 1.0000\n",
      "Epoch 24/50\n",
      "7/7 [==============================] - 0s 5ms/step - loss: 0.5402 - accuracy: 0.9845 - val_loss: 0.5894 - val_accuracy: 1.0000\n",
      "Epoch 25/50\n",
      "7/7 [==============================] - 0s 4ms/step - loss: 0.5247 - accuracy: 0.9845 - val_loss: 0.5805 - val_accuracy: 1.0000\n",
      "Epoch 26/50\n",
      "7/7 [==============================] - 0s 4ms/step - loss: 0.5089 - accuracy: 0.9845 - val_loss: 0.5716 - val_accuracy: 1.0000\n",
      "Epoch 27/50\n",
      "7/7 [==============================] - 0s 5ms/step - loss: 0.4926 - accuracy: 0.9845 - val_loss: 0.5620 - val_accuracy: 1.0000\n",
      "Epoch 28/50\n",
      "7/7 [==============================] - 0s 4ms/step - loss: 0.4765 - accuracy: 0.9845 - val_loss: 0.5527 - val_accuracy: 1.0000\n",
      "Epoch 29/50\n",
      "7/7 [==============================] - 0s 4ms/step - loss: 0.4601 - accuracy: 0.9845 - val_loss: 0.5439 - val_accuracy: 1.0000\n",
      "Epoch 30/50\n",
      "7/7 [==============================] - 0s 4ms/step - loss: 0.4439 - accuracy: 0.9845 - val_loss: 0.5336 - val_accuracy: 1.0000\n",
      "Epoch 31/50\n",
      "7/7 [==============================] - 0s 5ms/step - loss: 0.4271 - accuracy: 0.9845 - val_loss: 0.5245 - val_accuracy: 1.0000\n",
      "Epoch 32/50\n",
      "7/7 [==============================] - 0s 6ms/step - loss: 0.4109 - accuracy: 0.9845 - val_loss: 0.5142 - val_accuracy: 1.0000\n",
      "Epoch 33/50\n",
      "7/7 [==============================] - 0s 6ms/step - loss: 0.3944 - accuracy: 0.9845 - val_loss: 0.5037 - val_accuracy: 1.0000\n",
      "Epoch 34/50\n",
      "7/7 [==============================] - 0s 4ms/step - loss: 0.3782 - accuracy: 0.9794 - val_loss: 0.4931 - val_accuracy: 1.0000\n",
      "Epoch 35/50\n",
      "7/7 [==============================] - 0s 4ms/step - loss: 0.3621 - accuracy: 0.9845 - val_loss: 0.4831 - val_accuracy: 1.0000\n",
      "Epoch 36/50\n",
      "7/7 [==============================] - 0s 5ms/step - loss: 0.3465 - accuracy: 0.9845 - val_loss: 0.4739 - val_accuracy: 1.0000\n",
      "Epoch 37/50\n",
      "7/7 [==============================] - 0s 4ms/step - loss: 0.3315 - accuracy: 0.9845 - val_loss: 0.4646 - val_accuracy: 1.0000\n",
      "Epoch 38/50\n",
      "7/7 [==============================] - 0s 4ms/step - loss: 0.3174 - accuracy: 0.9845 - val_loss: 0.4552 - val_accuracy: 1.0000\n",
      "Epoch 39/50\n",
      "7/7 [==============================] - 0s 4ms/step - loss: 0.3032 - accuracy: 0.9845 - val_loss: 0.4453 - val_accuracy: 1.0000\n",
      "Epoch 40/50\n",
      "7/7 [==============================] - 0s 4ms/step - loss: 0.2898 - accuracy: 0.9845 - val_loss: 0.4359 - val_accuracy: 1.0000\n",
      "Epoch 41/50\n",
      "7/7 [==============================] - 0s 4ms/step - loss: 0.2763 - accuracy: 0.9845 - val_loss: 0.4266 - val_accuracy: 1.0000\n",
      "Epoch 42/50\n",
      "7/7 [==============================] - 0s 4ms/step - loss: 0.2635 - accuracy: 0.9845 - val_loss: 0.4172 - val_accuracy: 1.0000\n",
      "Epoch 43/50\n",
      "7/7 [==============================] - 0s 4ms/step - loss: 0.2513 - accuracy: 0.9794 - val_loss: 0.4079 - val_accuracy: 1.0000\n",
      "Epoch 44/50\n",
      "7/7 [==============================] - 0s 4ms/step - loss: 0.2397 - accuracy: 0.9897 - val_loss: 0.4001 - val_accuracy: 1.0000\n",
      "Epoch 45/50\n",
      "7/7 [==============================] - 0s 4ms/step - loss: 0.2287 - accuracy: 0.9897 - val_loss: 0.3919 - val_accuracy: 1.0000\n",
      "Epoch 46/50\n",
      "7/7 [==============================] - 0s 4ms/step - loss: 0.2185 - accuracy: 0.9845 - val_loss: 0.3838 - val_accuracy: 1.0000\n",
      "Epoch 47/50\n",
      "7/7 [==============================] - 0s 4ms/step - loss: 0.2085 - accuracy: 0.9897 - val_loss: 0.3757 - val_accuracy: 1.0000\n",
      "Epoch 48/50\n",
      "7/7 [==============================] - 0s 5ms/step - loss: 0.1993 - accuracy: 0.9897 - val_loss: 0.3680 - val_accuracy: 1.0000\n",
      "Epoch 49/50\n",
      "7/7 [==============================] - 0s 4ms/step - loss: 0.1904 - accuracy: 0.9897 - val_loss: 0.3595 - val_accuracy: 1.0000\n",
      "Epoch 50/50\n",
      "7/7 [==============================] - 0s 5ms/step - loss: 0.1819 - accuracy: 0.9897 - val_loss: 0.3515 - val_accuracy: 1.0000\n"
     ]
    }
   ],
   "source": [
    "#Data train .\n",
    "history = model.fit(xtr,ytr,epochs=50,validation_data=(xts,yts))"
   ]
  },
  {
   "cell_type": "code",
   "execution_count": 374,
   "id": "f4b2c135",
   "metadata": {},
   "outputs": [
    {
     "data": {
      "image/png": "[encoded data removed]",
      "text/plain": [
       "<Figure size 640x480 with 1 Axes>"
      ]
     },
     "metadata": {},
     "output_type": "display_data"
    },
    {
     "data": {
      "image/png": "[encoded data removed]",
      "text/plain": [
       "<Figure size 640x480 with 1 Axes>"
      ]
     },
     "metadata": {},
     "output_type": "display_data"
    }
   ],
   "source": [
    "#Visualize models performance\n",
    "epoch = range(1,51)\n",
    "results = history.history\n",
    "plt.plot(epoch,results['accuracy'],'blue')\n",
    "plt.plot(epoch,results['val_accuracy'],'red')\n",
    "plt.xlabel('Epochs')\n",
    "plt.ylabel('Accuracy')\n",
    "plt.title('Clickbait_or_notclickbait')\n",
    "plt.show()\n",
    "plt.plot(epoch,results['loss'],'blue')\n",
    "plt.plot(epoch,results['val_loss'],'red')\n",
    "plt.xlabel('Epochs')\n",
    "plt.ylabel('Loss')\n",
    "plt.title('Clickbait_or_notclickbait')\n",
    "plt.show()"
   ]
  },
  {
   "cell_type": "code",
   "execution_count": null,
   "id": "a6079b9b",
   "metadata": {},
   "outputs": [],
   "source": []
  },
  {
   "cell_type": "code",
   "execution_count": null,
   "id": "58b3008f",
   "metadata": {},
   "outputs": [],
   "source": []
  }
 ],
 "metadata": {
  "kernelspec": {
   "display_name": "Python 3 (ipykernel)",
   "language": "python",
   "name": "python3"
  },
  "language_info": {
   "codemirror_mode": {
    "name": "ipython",
    "version": 3
   },
   "file_extension": ".py",
   "mimetype": "text/x-python",
   "name": "python",
   "nbconvert_exporter": "python",
   "pygments_lexer": "ipython3",
   "version": "3.9.13"
  }
 },
 "nbformat": 4,
 "nbformat_minor": 5
}
